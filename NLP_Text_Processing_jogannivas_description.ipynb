{
  "nbformat": 4,
  "nbformat_minor": 0,
  "metadata": {
    "colab": {
      "provenance": []
    },
    "kernelspec": {
      "name": "python3",
      "display_name": "Python 3"
    },
    "language_info": {
      "name": "python"
    }
  },
  "cells": [
    {
      "cell_type": "code",
      "source": [
        "import re\n",
        "import nltk\n",
        "from nltk.tokenize import word_tokenize, sent_tokenize\n",
        "from nltk.corpus import stopwords\n",
        "from nltk.stem import PorterStemmer, WordNetLemmatizer"
      ],
      "metadata": {
        "id": "C-RjpWb4DiMf"
      },
      "execution_count": 3,
      "outputs": []
    },
    {
      "cell_type": "code",
      "execution_count": 5,
      "metadata": {
        "id": "k94yNtAUC7t8"
      },
      "outputs": [],
      "source": [
        "sample_text=\"As a dedicated Consultant at TCS, I specialize in utilizing SAP HANA applications to drive transformative solutions for the Aditya Birla Fashion and Retail project. With a background in computer science engineering and extensive experience in the IT industry, I bring a unique blend of technical expertise and strategic thinking to my role. I am passionate about sharing my knowledge and experience, as evidenced by my positive reviews and recommendations from peers and clients alike. Outside of work, I enjoy exploring new places and experiencing diverse cultures.\""
      ]
    },
    {
      "cell_type": "code",
      "source": [
        "import nltk\n",
        "nltk.download('punkt')\n",
        "nltk.download('stopwords')\n",
        "nltk.download('wordnet')"
      ],
      "metadata": {
        "colab": {
          "base_uri": "https://localhost:8080/"
        },
        "id": "dgWQYzzVDvFp",
        "outputId": "39c51f19-bf8d-44af-ca18-53b2aa77d11d"
      },
      "execution_count": 6,
      "outputs": [
        {
          "output_type": "stream",
          "name": "stderr",
          "text": [
            "[nltk_data] Downloading package punkt to /root/nltk_data...\n",
            "[nltk_data]   Unzipping tokenizers/punkt.zip.\n",
            "[nltk_data] Downloading package stopwords to /root/nltk_data...\n",
            "[nltk_data]   Unzipping corpora/stopwords.zip.\n",
            "[nltk_data] Downloading package wordnet to /root/nltk_data...\n"
          ]
        },
        {
          "output_type": "execute_result",
          "data": {
            "text/plain": [
              "True"
            ]
          },
          "metadata": {},
          "execution_count": 6
        }
      ]
    },
    {
      "cell_type": "code",
      "source": [
        "sentences = sent_tokenize(sample_text)\n",
        "words = [word_tokenize(sentence) for sentence in sentences]"
      ],
      "metadata": {
        "id": "sum8J3tBDvAi"
      },
      "execution_count": 7,
      "outputs": []
    },
    {
      "cell_type": "code",
      "source": [
        "sentences"
      ],
      "metadata": {
        "colab": {
          "base_uri": "https://localhost:8080/"
        },
        "id": "G-B_d-XEEqaF",
        "outputId": "786c7523-3716-4efb-ba52-aa02ea9091db"
      },
      "execution_count": 12,
      "outputs": [
        {
          "output_type": "execute_result",
          "data": {
            "text/plain": [
              "['As a dedicated Consultant at TCS, I specialize in utilizing SAP HANA applications to drive transformative solutions for the Aditya Birla Fashion and Retail project.',\n",
              " 'With a background in computer science engineering and extensive experience in the IT industry, I bring a unique blend of technical expertise and strategic thinking to my role.',\n",
              " 'I am passionate about sharing my knowledge and experience, as evidenced by my positive reviews and recommendations from peers and clients alike.',\n",
              " 'Outside of work, I enjoy exploring new places and experiencing diverse cultures.']"
            ]
          },
          "metadata": {},
          "execution_count": 12
        }
      ]
    },
    {
      "cell_type": "code",
      "source": [
        "words"
      ],
      "metadata": {
        "colab": {
          "base_uri": "https://localhost:8080/"
        },
        "id": "kLp5rcmPEuSw",
        "outputId": "a061e622-4d1a-42fb-9ed0-39c1b4282e47"
      },
      "execution_count": 13,
      "outputs": [
        {
          "output_type": "execute_result",
          "data": {
            "text/plain": [
              "[['As',\n",
              "  'a',\n",
              "  'dedicated',\n",
              "  'Consultant',\n",
              "  'at',\n",
              "  'TCS',\n",
              "  ',',\n",
              "  'I',\n",
              "  'specialize',\n",
              "  'in',\n",
              "  'utilizing',\n",
              "  'SAP',\n",
              "  'HANA',\n",
              "  'applications',\n",
              "  'to',\n",
              "  'drive',\n",
              "  'transformative',\n",
              "  'solutions',\n",
              "  'for',\n",
              "  'the',\n",
              "  'Aditya',\n",
              "  'Birla',\n",
              "  'Fashion',\n",
              "  'and',\n",
              "  'Retail',\n",
              "  'project',\n",
              "  '.'],\n",
              " ['With',\n",
              "  'a',\n",
              "  'background',\n",
              "  'in',\n",
              "  'computer',\n",
              "  'science',\n",
              "  'engineering',\n",
              "  'and',\n",
              "  'extensive',\n",
              "  'experience',\n",
              "  'in',\n",
              "  'the',\n",
              "  'IT',\n",
              "  'industry',\n",
              "  ',',\n",
              "  'I',\n",
              "  'bring',\n",
              "  'a',\n",
              "  'unique',\n",
              "  'blend',\n",
              "  'of',\n",
              "  'technical',\n",
              "  'expertise',\n",
              "  'and',\n",
              "  'strategic',\n",
              "  'thinking',\n",
              "  'to',\n",
              "  'my',\n",
              "  'role',\n",
              "  '.'],\n",
              " ['I',\n",
              "  'am',\n",
              "  'passionate',\n",
              "  'about',\n",
              "  'sharing',\n",
              "  'my',\n",
              "  'knowledge',\n",
              "  'and',\n",
              "  'experience',\n",
              "  ',',\n",
              "  'as',\n",
              "  'evidenced',\n",
              "  'by',\n",
              "  'my',\n",
              "  'positive',\n",
              "  'reviews',\n",
              "  'and',\n",
              "  'recommendations',\n",
              "  'from',\n",
              "  'peers',\n",
              "  'and',\n",
              "  'clients',\n",
              "  'alike',\n",
              "  '.'],\n",
              " ['Outside',\n",
              "  'of',\n",
              "  'work',\n",
              "  ',',\n",
              "  'I',\n",
              "  'enjoy',\n",
              "  'exploring',\n",
              "  'new',\n",
              "  'places',\n",
              "  'and',\n",
              "  'experiencing',\n",
              "  'diverse',\n",
              "  'cultures',\n",
              "  '.']]"
            ]
          },
          "metadata": {},
          "execution_count": 13
        }
      ]
    },
    {
      "cell_type": "code",
      "source": [
        "cleaned_words = [[re.sub(r'[^a-zA-Z0-9]', '', word.lower()) for word in sentence] for sentence in words]"
      ],
      "metadata": {
        "id": "cmi0-vUxDuxu"
      },
      "execution_count": 8,
      "outputs": []
    },
    {
      "cell_type": "code",
      "source": [
        "cleaned_words"
      ],
      "metadata": {
        "colab": {
          "base_uri": "https://localhost:8080/"
        },
        "id": "sKu9_1fqEzmS",
        "outputId": "1ca14d58-7923-41bf-b460-782980afdb67"
      },
      "execution_count": 14,
      "outputs": [
        {
          "output_type": "execute_result",
          "data": {
            "text/plain": [
              "[['as',\n",
              "  'a',\n",
              "  'dedicated',\n",
              "  'consultant',\n",
              "  'at',\n",
              "  'tcs',\n",
              "  '',\n",
              "  'i',\n",
              "  'specialize',\n",
              "  'in',\n",
              "  'utilizing',\n",
              "  'sap',\n",
              "  'hana',\n",
              "  'applications',\n",
              "  'to',\n",
              "  'drive',\n",
              "  'transformative',\n",
              "  'solutions',\n",
              "  'for',\n",
              "  'the',\n",
              "  'aditya',\n",
              "  'birla',\n",
              "  'fashion',\n",
              "  'and',\n",
              "  'retail',\n",
              "  'project',\n",
              "  ''],\n",
              " ['with',\n",
              "  'a',\n",
              "  'background',\n",
              "  'in',\n",
              "  'computer',\n",
              "  'science',\n",
              "  'engineering',\n",
              "  'and',\n",
              "  'extensive',\n",
              "  'experience',\n",
              "  'in',\n",
              "  'the',\n",
              "  'it',\n",
              "  'industry',\n",
              "  '',\n",
              "  'i',\n",
              "  'bring',\n",
              "  'a',\n",
              "  'unique',\n",
              "  'blend',\n",
              "  'of',\n",
              "  'technical',\n",
              "  'expertise',\n",
              "  'and',\n",
              "  'strategic',\n",
              "  'thinking',\n",
              "  'to',\n",
              "  'my',\n",
              "  'role',\n",
              "  ''],\n",
              " ['i',\n",
              "  'am',\n",
              "  'passionate',\n",
              "  'about',\n",
              "  'sharing',\n",
              "  'my',\n",
              "  'knowledge',\n",
              "  'and',\n",
              "  'experience',\n",
              "  '',\n",
              "  'as',\n",
              "  'evidenced',\n",
              "  'by',\n",
              "  'my',\n",
              "  'positive',\n",
              "  'reviews',\n",
              "  'and',\n",
              "  'recommendations',\n",
              "  'from',\n",
              "  'peers',\n",
              "  'and',\n",
              "  'clients',\n",
              "  'alike',\n",
              "  ''],\n",
              " ['outside',\n",
              "  'of',\n",
              "  'work',\n",
              "  '',\n",
              "  'i',\n",
              "  'enjoy',\n",
              "  'exploring',\n",
              "  'new',\n",
              "  'places',\n",
              "  'and',\n",
              "  'experiencing',\n",
              "  'diverse',\n",
              "  'cultures',\n",
              "  '']]"
            ]
          },
          "metadata": {},
          "execution_count": 14
        }
      ]
    },
    {
      "cell_type": "code",
      "source": [
        "stop_words = set(stopwords.words('english'))\n",
        "filtered_words = [[word for word in sentence if word not in stop_words] for sentence in cleaned_words]"
      ],
      "metadata": {
        "id": "D3VzU5T_D9Y2"
      },
      "execution_count": 9,
      "outputs": []
    },
    {
      "cell_type": "code",
      "source": [
        "print (filtered_words)\n",
        "print (stop_words)"
      ],
      "metadata": {
        "colab": {
          "base_uri": "https://localhost:8080/"
        },
        "id": "pbeOTqu0E4mJ",
        "outputId": "f6b0921f-30b4-46d2-f1c4-63709ee721a4"
      },
      "execution_count": 16,
      "outputs": [
        {
          "output_type": "stream",
          "name": "stdout",
          "text": [
            "[['dedicated', 'consultant', 'tcs', '', 'specialize', 'utilizing', 'sap', 'hana', 'applications', 'drive', 'transformative', 'solutions', 'aditya', 'birla', 'fashion', 'retail', 'project', ''], ['background', 'computer', 'science', 'engineering', 'extensive', 'experience', 'industry', '', 'bring', 'unique', 'blend', 'technical', 'expertise', 'strategic', 'thinking', 'role', ''], ['passionate', 'sharing', 'knowledge', 'experience', '', 'evidenced', 'positive', 'reviews', 'recommendations', 'peers', 'clients', 'alike', ''], ['outside', 'work', '', 'enjoy', 'exploring', 'new', 'places', 'experiencing', 'diverse', 'cultures', '']]\n",
            "{\"haven't\", 'be', \"shouldn't\", \"wouldn't\", 'not', 'into', 'how', 'll', \"should've\", \"needn't\", 'more', \"you'll\", 'has', 'doesn', 'them', 'only', 's', 'down', 'these', 'through', 't', 'isn', 'wouldn', 'hasn', 'aren', \"she's\", 'will', 'such', 'haven', 'very', \"mightn't\", \"shan't\", 'were', 'a', 'as', 'where', 'his', \"you're\", 'ma', 'herself', 'your', 'yourself', 'does', 'until', 'can', 'too', 'up', 'again', 'it', 'is', 'there', \"aren't\", 'all', 'd', 'both', 'myself', 'did', \"won't\", 'or', 'any', 'yours', 'that', 'below', 'about', 'during', 'if', 'so', 'doing', 'in', 'those', 've', 'then', 'its', 'mustn', 'to', 'm', 'do', 'who', 'shan', 'should', \"it's\", 'ourselves', 'are', 'needn', 'with', 'shouldn', 'i', \"that'll\", 'had', 'each', 'why', \"don't\", \"isn't\", \"weren't\", 'other', \"hadn't\", 'off', 'me', 'once', 'wasn', 'don', \"didn't\", 'their', 'him', 'couldn', \"hasn't\", 'over', 'our', \"you've\", 'he', 'ain', 'the', \"couldn't\", 'have', 'for', 'by', 'own', 'being', 'she', 'her', 'nor', 'this', 'just', 'of', 'we', 'same', 'than', 'because', 'whom', 'hadn', 'yourselves', 'from', 'after', 'having', 'ours', 'at', 'on', 'against', 'few', 'most', \"mustn't\", 'am', \"doesn't\", 'before', 'some', 'was', 'while', 're', 'further', 'you', 'mightn', 'here', 'y', 'been', 'out', 'now', 'above', 'when', 'themselves', 'won', \"wasn't\", 'which', 'weren', \"you'd\", 'what', 'theirs', 'no', 'itself', 'under', 'hers', 'and', 'himself', 'o', 'but', 'they', 'didn', 'between', 'my', 'an'}\n"
          ]
        }
      ]
    },
    {
      "cell_type": "code",
      "source": [
        "stemmer = PorterStemmer()\n",
        "lemmatizer = WordNetLemmatizer()\n",
        "\n",
        "stemmed_words = [[stemmer.stem(word) for word in sentence] for sentence in filtered_words]\n",
        "lemmatized_words = [[lemmatizer.lemmatize(word) for word in sentence] for sentence in filtered_words]"
      ],
      "metadata": {
        "id": "UZG40PLkD9Uo"
      },
      "execution_count": 10,
      "outputs": []
    },
    {
      "cell_type": "code",
      "source": [
        "print(\"Original Sentences:\")\n",
        "for sentence in sentences:\n",
        "    print(sentence)\n",
        "\n",
        "print(\"\\nProcessed Sentences (Lemmatized):\")\n",
        "for sentence in lemmatized_words:\n",
        "    print(' '.join(sentence))"
      ],
      "metadata": {
        "colab": {
          "base_uri": "https://localhost:8080/"
        },
        "id": "N42tjVb_D9RF",
        "outputId": "c9db31f0-7474-4e6c-d172-2e0e661d7337"
      },
      "execution_count": 11,
      "outputs": [
        {
          "output_type": "stream",
          "name": "stdout",
          "text": [
            "Original Sentences:\n",
            "As a dedicated Consultant at TCS, I specialize in utilizing SAP HANA applications to drive transformative solutions for the Aditya Birla Fashion and Retail project.\n",
            "With a background in computer science engineering and extensive experience in the IT industry, I bring a unique blend of technical expertise and strategic thinking to my role.\n",
            "I am passionate about sharing my knowledge and experience, as evidenced by my positive reviews and recommendations from peers and clients alike.\n",
            "Outside of work, I enjoy exploring new places and experiencing diverse cultures.\n",
            "\n",
            "Processed Sentences (Lemmatized):\n",
            "dedicated consultant tc  specialize utilizing sap hana application drive transformative solution aditya birla fashion retail project \n",
            "background computer science engineering extensive experience industry  bring unique blend technical expertise strategic thinking role \n",
            "passionate sharing knowledge experience  evidenced positive review recommendation peer client alike \n",
            "outside work  enjoy exploring new place experiencing diverse culture \n"
          ]
        }
      ]
    }
  ]
}